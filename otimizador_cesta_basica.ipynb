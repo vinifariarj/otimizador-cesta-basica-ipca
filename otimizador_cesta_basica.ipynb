{
 "cells": [
  {
   "cell_type": "markdown",
   "metadata": {},
   "source": [
    "otimização de compra de produtos da cesta básica"
   ]
  },
  {
   "cell_type": "markdown",
   "metadata": {
    "id": "ms1GJeJmtCgt"
   },
   "source": [
    "### Instalação e carregamento das bibliotecas de GA em python"
   ]
  },
  {
   "cell_type": "code",
   "execution_count": 637,
   "metadata": {
    "colab": {
     "base_uri": "https://localhost:8080/"
    },
    "executionInfo": {
     "elapsed": 9538,
     "status": "ok",
     "timestamp": 1683399663420,
     "user": {
      "displayName": "Felipe Borges",
      "userId": "03048332577103851740"
     },
     "user_tz": 180
    },
    "id": "IKde5Z2D0kdM",
    "outputId": "d1abbd78-4a09-4a50-a80c-88d58fb8a9e2"
   },
   "outputs": [],
   "source": [
    "#!pip install deap\n",
    "#!pip install openpyxl"
   ]
  },
  {
   "cell_type": "code",
   "execution_count": 638,
   "metadata": {
    "executionInfo": {
     "elapsed": 372,
     "status": "ok",
     "timestamp": 1683399686584,
     "user": {
      "displayName": "Felipe Borges",
      "userId": "03048332577103851740"
     },
     "user_tz": 180
    },
    "id": "-hFtGwoP00Nq"
   },
   "outputs": [],
   "source": [
    "import random\n",
    "import numpy\n",
    "from deap import base\n",
    "from deap import creator\n",
    "from deap import tools\n",
    "from deap import algorithms\n",
    "import math\n",
    "import pandas as pd\n",
    "from pesquisaCompras import gera_df_cesta_basica\n",
    "\n",
    "# matriz para o calculo final dos custos da cesta básica\n",
    "matrixCustoTotal = [[0,0,0,0,0],[0,0,0,0,0],[0,0,0,0,0],[0,0,0,0,0],[0,0,0,0,0],[0,0,0,0,0],[0,0,0,0,0],[0,0,0,0,0],[0,0,0,0,0],[0,0,0,0,0],[0,0,0,0,0]]\n",
    "\n",
    "# periodo total de compras para qtd de meses\n",
    "periodo_compras = 1 \n",
    "\n",
    "# O custo máximo que posso gastar no período, neste caso mensal.\n",
    "custoMaximo = 800"
   ]
  },
  {
   "cell_type": "markdown",
   "metadata": {},
   "source": [
    "#### Custo do frete de cada mercado, o frete fica gratuito se o custo do mercado for maior que o valor estimado por mercado, por exemplo no carrefour fica frete gratuito acima de R$200, caso o valor seja menor que R$200 será cobrado um frete de R$20"
   ]
  },
  {
   "cell_type": "code",
   "execution_count": 639,
   "metadata": {},
   "outputs": [],
   "source": [
    "custoFrete = [[349,14.9],[1500,29.9],[399,25.9],[299,19.9],[199,24.9]]"
   ]
  },
  {
   "cell_type": "markdown",
   "metadata": {},
   "source": [
    "#### Descontos apresentado por cada mercado, por exemplo, se o valor chegar a R$100 no Carrefour o cliente terá 5% de desconto em toda a compra (ainda não implementado)"
   ]
  },
  {
   "cell_type": "code",
   "execution_count": 640,
   "metadata": {},
   "outputs": [],
   "source": [
    "descontosCarrefour = [(100,5),(200,10),(300,15)]\n",
    "descontosZonaSul = [(80,5),(130,10)]\n",
    "descontosPaoDeAcucar = [(100,10),(150,15)]\n",
    "descontosPrezunic = [(100,3),(150,5)]\n",
    "descontosHortifruti = [(80,5),(160,10),(240,15)]"
   ]
  },
  {
   "cell_type": "markdown",
   "metadata": {
    "id": "EniJuOX8-sXe"
   },
   "source": [
    "#### É necessário fazer o upload dos dados dos 10 produtos da cesta básica, acompanhando seus preços em 5 mercados sendo:\n",
    "1 - Carrefour\n",
    "2 - Zona Sul\n",
    "3 - Pão de Açucar\n",
    "4 - Prezunic\n",
    "5 - Hortifruti"
   ]
  },
  {
   "cell_type": "code",
   "execution_count": 641,
   "metadata": {},
   "outputs": [
    {
     "data": {
      "text/html": [
       "<div>\n",
       "<style scoped>\n",
       "    .dataframe tbody tr th:only-of-type {\n",
       "        vertical-align: middle;\n",
       "    }\n",
       "\n",
       "    .dataframe tbody tr th {\n",
       "        vertical-align: top;\n",
       "    }\n",
       "\n",
       "    .dataframe thead th {\n",
       "        text-align: right;\n",
       "    }\n",
       "</style>\n",
       "<table border=\"1\" class=\"dataframe\">\n",
       "  <thead>\n",
       "    <tr style=\"text-align: right;\">\n",
       "      <th></th>\n",
       "      <th>Unnamed: 0</th>\n",
       "      <th>leguminosa</th>\n",
       "      <th>cereais</th>\n",
       "      <th>raizes</th>\n",
       "      <th>legumes</th>\n",
       "      <th>frutas</th>\n",
       "      <th>oleaginosas</th>\n",
       "      <th>carne</th>\n",
       "      <th>leite</th>\n",
       "      <th>oleos</th>\n",
       "      <th>cafe</th>\n",
       "    </tr>\n",
       "  </thead>\n",
       "  <tbody>\n",
       "    <tr>\n",
       "      <th>0</th>\n",
       "      <td>Carrefour</td>\n",
       "      <td>5.598</td>\n",
       "      <td>6.49</td>\n",
       "      <td>3.890</td>\n",
       "      <td>5.580000</td>\n",
       "      <td>16.500000</td>\n",
       "      <td>5.99</td>\n",
       "      <td>11.89</td>\n",
       "      <td>34.225</td>\n",
       "      <td>5.69</td>\n",
       "      <td>29.98</td>\n",
       "    </tr>\n",
       "    <tr>\n",
       "      <th>1</th>\n",
       "      <td>Hortifruti</td>\n",
       "      <td>9.490</td>\n",
       "      <td>9.79</td>\n",
       "      <td>9.600</td>\n",
       "      <td>4.400000</td>\n",
       "      <td>12.466667</td>\n",
       "      <td>24.99</td>\n",
       "      <td>14.66</td>\n",
       "      <td>41.225</td>\n",
       "      <td>6.99</td>\n",
       "      <td>23.98</td>\n",
       "    </tr>\n",
       "    <tr>\n",
       "      <th>2</th>\n",
       "      <td>Pao de Acucar</td>\n",
       "      <td>5.998</td>\n",
       "      <td>8.99</td>\n",
       "      <td>5.500</td>\n",
       "      <td>10.290000</td>\n",
       "      <td>16.900000</td>\n",
       "      <td>146.60</td>\n",
       "      <td>18.90</td>\n",
       "      <td>44.475</td>\n",
       "      <td>6.89</td>\n",
       "      <td>35.98</td>\n",
       "    </tr>\n",
       "    <tr>\n",
       "      <th>3</th>\n",
       "      <td>Prezunic</td>\n",
       "      <td>6.890</td>\n",
       "      <td>8.09</td>\n",
       "      <td>11.580</td>\n",
       "      <td>9.190000</td>\n",
       "      <td>10.133333</td>\n",
       "      <td>25.40</td>\n",
       "      <td>16.09</td>\n",
       "      <td>45.975</td>\n",
       "      <td>6.89</td>\n",
       "      <td>39.18</td>\n",
       "    </tr>\n",
       "    <tr>\n",
       "      <th>4</th>\n",
       "      <td>Zona Sul</td>\n",
       "      <td>5.990</td>\n",
       "      <td>8.99</td>\n",
       "      <td>4.995</td>\n",
       "      <td>6.383333</td>\n",
       "      <td>5.995000</td>\n",
       "      <td>7.98</td>\n",
       "      <td>7.90</td>\n",
       "      <td>47.475</td>\n",
       "      <td>5.97</td>\n",
       "      <td>41.60</td>\n",
       "    </tr>\n",
       "  </tbody>\n",
       "</table>\n",
       "</div>"
      ],
      "text/plain": [
       "      Unnamed: 0  leguminosa  cereais  raizes    legumes     frutas  \\\n",
       "0      Carrefour       5.598     6.49   3.890   5.580000  16.500000   \n",
       "1     Hortifruti       9.490     9.79   9.600   4.400000  12.466667   \n",
       "2  Pao de Acucar       5.998     8.99   5.500  10.290000  16.900000   \n",
       "3       Prezunic       6.890     8.09  11.580   9.190000  10.133333   \n",
       "4       Zona Sul       5.990     8.99   4.995   6.383333   5.995000   \n",
       "\n",
       "   oleaginosas  carne   leite  oleos   cafe  \n",
       "0         5.99  11.89  34.225   5.69  29.98  \n",
       "1        24.99  14.66  41.225   6.99  23.98  \n",
       "2       146.60  18.90  44.475   6.89  35.98  \n",
       "3        25.40  16.09  45.975   6.89  39.18  \n",
       "4         7.98   7.90  47.475   5.97  41.60  "
      ]
     },
     "execution_count": 641,
     "metadata": {},
     "output_type": "execute_result"
    }
   ],
   "source": [
    "\n",
    "#precos = gera_df_cesta_basica()\n",
    "precos = pd.read_csv('precos_geral.csv')\n",
    "precos"
   ]
  },
  {
   "cell_type": "code",
   "execution_count": 642,
   "metadata": {},
   "outputs": [
    {
     "data": {
      "text/plain": [
       "array([ 5.598,  6.49 ,  3.89 ,  5.58 , 16.5  ,  5.99 , 11.89 , 34.225,\n",
       "        5.69 , 29.98 ])"
      ]
     },
     "execution_count": 642,
     "metadata": {},
     "output_type": "execute_result"
    }
   ],
   "source": [
    "# carregando cada array com produtos e preços\n",
    "#precos.to_csv('precos_geral.csv')\n",
    "#produtos = precos.iloc[:,0:3]\n",
    "carrefour = precos.iloc[:1,1:].values[0]\n",
    "hortifruti = precos.iloc[1:2,1:].values[0]\n",
    "pao_de_acucar = precos.iloc[2:3,1:].values[0]\n",
    "prezunic = precos.iloc[3:4,1:].values[0]\n",
    "zona_sul = precos.iloc[4:5,1:].values[0]\n",
    "\n",
    "lista_qtd_mensal = [2, 4, 4, 2, 2, 0.5, 4, 4, 2, 2]\n",
    "#lista_qtd_mensal\n",
    "carrefour\n"
   ]
  },
  {
   "cell_type": "markdown",
   "metadata": {
    "id": "vukKHLlYtNYa"
   },
   "source": [
    "### Declaração das funções auxiliares que devem conter as informações do problema"
   ]
  },
  {
   "cell_type": "code",
   "execution_count": 643,
   "metadata": {},
   "outputs": [],
   "source": [
    "# Função que calcula o custo para cada mercado\n",
    "def CustoCestaPorMercado(individual):\n",
    "  custoCarrefour = 0\n",
    "  custoZona_sul = 0\n",
    "  custoPao_de_acucar = 0\n",
    "  custoPrezunic = 0\n",
    "  custoHortifruti = 0\n",
    "  custoNoMarket = 0\n",
    "  qtdProdCarrefour = 0\n",
    "  qtdProdSonaSul = 0\n",
    "  qtdProdPaoDeAcucar = 0\n",
    "  qtdProdPrezunic = 0\n",
    "  qtdProdHortifruti = 0\n",
    "  qtdNoMarket = 0\n",
    "  # custo dos produtos\n",
    "  #print(list(enumerate(zip(individual[0::2],individual[1::2]))))\n",
    "  #for index,mercado in enumerate(individual[::2]):\n",
    "  # formatando a lista para ter o mercado e a quantidade de produto na mesma iteração\n",
    "  for index,cesta_mercado in enumerate(zip(individual[0::2],individual[1::2])):\n",
    "    # Verificar o custo de cada produto no mercado\n",
    "    mercado = cesta_mercado[0]\n",
    "    qtd_prod = cesta_mercado[1]\n",
    "    # custo por mercado\n",
    "    if mercado == 1:\n",
    "      custoCarrefour += float(carrefour[index]*qtd_prod)\n",
    "      qtdProdCarrefour += qtd_prod\n",
    "    elif mercado == 2:\n",
    "      custoZona_sul += float(zona_sul[index]*qtd_prod)\n",
    "      qtdProdSonaSul += qtd_prod\n",
    "    elif mercado == 3:\n",
    "      custoPao_de_acucar += float(pao_de_acucar[index]*qtd_prod)\n",
    "      qtdProdPaoDeAcucar += qtd_prod\n",
    "    elif mercado == 4:\n",
    "      custoPrezunic += float(prezunic[index]*qtd_prod)\n",
    "      qtdProdPrezunic += qtd_prod\n",
    "    elif mercado == 5:\n",
    "      custoHortifruti += float(hortifruti[index]*qtd_prod)\n",
    "      qtdProdHortifruti += qtd_prod\n",
    "    else:\n",
    "      custoNoMarket += float(custoMaximo*qtd_prod)\n",
    "      qtdNoMarket += qtd_prod\n",
    "    #custoCarrefour += numpy.sum(float(carrefour.iloc[index].values*qtd_prod) if mercado == 1 else 0)\n",
    "    #custoZona_sul += numpy.sum(float(zona_sul.iloc[index].values*qtd_prod) if mercado == 2 else 0)\n",
    "    #custoPao_de_acucar += numpy.sum(float(pao_de_acucar.iloc[index].values*qtd_prod) if mercado == 3 else 0)\n",
    "    #custoPrezunic += numpy.sum(float(prezunic.iloc[index].values*qtd_prod) if mercado == 4 else 0)\n",
    "    #custoHortifruti += numpy.sum(float(hortifruti.iloc[index].values*qtd_prod) if mercado == 5 else 0)\n",
    "\n",
    "    #qtdProdCarrefour += numpy.sum(float(qtd_prod) if mercado == 1 else 0)\n",
    "    #qtdProdSonaSul += numpy.sum(float(qtd_prod) if mercado == 2 else 0)\n",
    "    #qtdProdPaoDeAcucar += numpy.sum(float(qtd_prod) if mercado == 3 else 0)\n",
    "    #qtdProdPrezunic += numpy.sum(float(qtd_prod) if mercado == 4 else 0)\n",
    "    #qtdProdHortifruti += numpy.sum(float(qtd_prod) if mercado == 5 else 0)\n",
    "  \n",
    "  qtd_total_prod = qtdProdCarrefour+qtdProdSonaSul+qtdProdPaoDeAcucar+qtdProdPrezunic+qtdProdHortifruti\n",
    "  '''\n",
    "  # aplicando o desconto se atingir o custo para o Carrefour\n",
    "  #descCarrefourReversed = list(reversed(descontosCarrefour))\n",
    "  for desc in descontosCarrefour[::-1]:\n",
    "    if desc[0]<=custoCarrefour:\n",
    "        custoCarrefour = custoCarrefour * ((desc[1]-100)/100)\n",
    "        break\n",
    "  # aplicando o desconto se atingir o custo para o Zona Sul\n",
    "  for valor, desc in descontosZonaSul[::-1]:\n",
    "    if valor<=custoZona_sul:\n",
    "        custoZona_sul = custoZona_sul * ((desc-100)/100)\n",
    "        break\n",
    "  # aplicando o desconto se atingir o custo para o Pão de Açucar\n",
    "  for valor, desc in descontosPaoDeAcucar[::-1]:\n",
    "    if valor<=custoPao_de_acucar:\n",
    "        custoPao_de_acucar = custoPao_de_acucar * ((desc-100)/100)\n",
    "        break\n",
    "  # aplicando o desconto se atingir o custo para o Prezunic\n",
    "  for valor, desc in descontosPrezunic[::-1]:\n",
    "    if valor<=custoPrezunic:\n",
    "        custoPrezunic = custoPrezunic * ((desc-100)/100)\n",
    "        break\n",
    "  # aplicando o desconto se atingir o custo para o Hortifruti\n",
    "  for valor, desc in descontosHortifruti[::-1]:\n",
    "    if valor<=custoHortifruti:\n",
    "        custoHortifruti = custoHortifruti * ((desc-100)/100)\n",
    "        break\n",
    "  '''\n",
    "  # ajustando ao custo do frete para o Carrefour\n",
    "  if custoCarrefour < custoFrete[0][0] and custoCarrefour > 0:\n",
    "      custoCarrefour += custoFrete[0][1]\n",
    "  # ajustando ao custo do frete para o Zona Sul\n",
    "  if custoZona_sul < custoFrete[1][0] and custoZona_sul > 0:\n",
    "      custoZona_sul += custoFrete[1][1]    \n",
    "  # ajustando ao custo do frete para o Pão de Açucar\n",
    "  if custoPao_de_acucar < custoFrete[2][0] and custoPao_de_acucar > 0:\n",
    "      custoPao_de_acucar += custoFrete[2][1] \n",
    "  # ajustando ao custo do frete para o Prezunic\n",
    "  if custoPrezunic < custoFrete[3][0] and custoPrezunic >0:\n",
    "      custoPrezunic += custoFrete[3][1] \n",
    "  # ajustando ao custo do frete para o Hortifruti\n",
    "  if custoHortifruti < custoFrete[4][0] and custoHortifruti > 0:\n",
    "      custoHortifruti += custoFrete[4][1] \n",
    "  \n",
    "  return [custoCarrefour,custoZona_sul,custoPao_de_acucar,custoPrezunic,custoHortifruti,custoNoMarket],qtd_total_prod\n",
    "  #return [custoCarrefour,custoZona_sul,custoPao_de_acucar,custoPrezunic,custoHortifruti],qtd_total_prod"
   ]
  },
  {
   "cell_type": "code",
   "execution_count": 644,
   "metadata": {
    "executionInfo": {
     "elapsed": 242,
     "status": "ok",
     "timestamp": 1683400315498,
     "user": {
      "displayName": "Felipe Borges",
      "userId": "03048332577103851740"
     },
     "user_tz": 180
    },
    "id": "JmepN1Nd2es2"
   },
   "outputs": [],
   "source": [
    "# Função Objetivo -> Repare que o único parametro que a função deve receber é um individuo\n",
    "def CustoCesta(individual):\n",
    "  custoTotal = 0\n",
    "  # recupera os custos por mercado\n",
    "  listaCustos, qtd_tot_prod = CustoCestaPorMercado(individual)\n",
    "  # custo dos produtos\n",
    "  custoTotal = numpy.sum(listaCustos)\n",
    "\n",
    "  return custoTotal,qtd_tot_prod"
   ]
  },
  {
   "cell_type": "code",
   "execution_count": 645,
   "metadata": {},
   "outputs": [],
   "source": [
    "# Função que calcula a razão do custo x benefício para cada mercado - Função unificada\n",
    "def CestasMercados(individual):\n",
    "  custoCarrefour = 0\n",
    "  custoZona_sul = 0\n",
    "  custoPao_de_acucar = 0\n",
    "  custoPrezunic = 0\n",
    "  custoHortifruti = 0\n",
    "  custoNoMarket = 0\n",
    "  qtdProdCarrefour = 0\n",
    "  qtdProdZonaSul = 0\n",
    "  qtdProdPaoDeAcucar = 0\n",
    "  qtdProdPrezunic = 0\n",
    "  qtdProdHortifruti = 0\n",
    "  qtdNoMarket = 0\n",
    "  # custo dos produtos\n",
    "  # formatando a lista para ter o mercado e a quantidade de produto na mesma iteração\n",
    "  for index,cesta_mercado in enumerate(zip(individual[0::2],individual[1::2])):\n",
    "    # Verificar o custo de cada produto no mercado\n",
    "    mercado = cesta_mercado[0]\n",
    "    qtd_prod = cesta_mercado[1]\n",
    "    # custo por mercado\n",
    "    if mercado == 1:\n",
    "      custoCarrefour += float(carrefour[index]*qtd_prod)\n",
    "      qtdProdCarrefour += qtd_prod\n",
    "    elif mercado == 2:\n",
    "      custoZona_sul += float(zona_sul[index]*qtd_prod)\n",
    "      qtdProdZonaSul += qtd_prod\n",
    "    elif mercado == 3:\n",
    "      custoPao_de_acucar += float(pao_de_acucar[index]*qtd_prod)\n",
    "      qtdProdPaoDeAcucar += qtd_prod\n",
    "    elif mercado == 4:\n",
    "      custoPrezunic += float(prezunic[index]*qtd_prod)\n",
    "      qtdProdPrezunic += qtd_prod\n",
    "    elif mercado == 5:\n",
    "      custoHortifruti += float(hortifruti[index]*qtd_prod)\n",
    "      qtdProdHortifruti += qtd_prod\n",
    "    else:\n",
    "      custoNoMarket += float(custoMaximo*qtd_prod)\n",
    "      qtdNoMarket += qtd_prod\n",
    "  \n",
    "  #qtd_total_prod = qtdProdCarrefour+qtdProdZonaSul+qtdProdPaoDeAcucar+qtdProdPrezunic+qtdProdHortifruti\n",
    "\n",
    "  # ajustando ao custo do frete para o Carrefour\n",
    "  if custoCarrefour < custoFrete[0][0] and custoCarrefour > 0:\n",
    "      custoCarrefour += custoFrete[0][1]\n",
    "  # ajustando ao custo do frete para o Zona Sul\n",
    "  if custoZona_sul < custoFrete[1][0] and custoZona_sul > 0:\n",
    "      custoZona_sul += custoFrete[1][1]    \n",
    "  # ajustando ao custo do frete para o Pão de Açucar\n",
    "  if custoPao_de_acucar < custoFrete[2][0] and custoPao_de_acucar > 0:\n",
    "      custoPao_de_acucar += custoFrete[2][1] \n",
    "  # ajustando ao custo do frete para o Prezunic\n",
    "  if custoPrezunic < custoFrete[3][0] and custoPrezunic >0:\n",
    "      custoPrezunic += custoFrete[3][1] \n",
    "  # ajustando ao custo do frete para o Hortifruti\n",
    "  if custoHortifruti < custoFrete[4][0] and custoHortifruti > 0:\n",
    "      custoHortifruti += custoFrete[4][1] \n",
    "  \n",
    "  return [(custoCarrefour,qtdProdCarrefour),(custoZona_sul,qtdProdZonaSul),(custoPao_de_acucar,qtdProdPaoDeAcucar),(custoPrezunic,qtdProdPrezunic),(custoHortifruti,qtdProdHortifruti),(custoNoMarket,qtdNoMarket)]"
   ]
  },
  {
   "cell_type": "code",
   "execution_count": 646,
   "metadata": {},
   "outputs": [],
   "source": [
    "def CustoBeneficioCesta(individual):\n",
    "    custoBeneficioTotal = 0\n",
    "    # recupera os custos por mercado\n",
    "    cestas = CestasMercados(individual)\n",
    "    # custo benefício de todos os mercados somados\n",
    "    for custo,qtd in cestas:\n",
    "        if custo == 0:\n",
    "            custoBeneficioTotal += 0\n",
    "        else:\n",
    "            custoBeneficioTotal += qtd/custo\n",
    "\n",
    "    return custoBeneficioTotal,"
   ]
  },
  {
   "cell_type": "code",
   "execution_count": 647,
   "metadata": {},
   "outputs": [],
   "source": [
    "def CustoSoUmMercado(individual,mercado):\n",
    "    custoMercado = 0\n",
    "    if mercado == 1:\n",
    "        for index,qtd_prod in enumerate(individual[1::2]):\n",
    "            custoMercado += float(carrefour[index]*qtd_prod)\n",
    "        if custoMercado < custoFrete[0][0] and custoMercado > 0:\n",
    "            custoMercado += custoFrete[0][1]\n",
    "    elif mercado == 2:\n",
    "        for index,qtd_prod in enumerate(individual[1::2]):\n",
    "            custoMercado += float(zona_sul[index]*qtd_prod)\n",
    "        if custoMercado < custoFrete[1][0] and custoMercado > 0:\n",
    "            custoMercado += custoFrete[1][1]\n",
    "    elif mercado == 3:\n",
    "        for index,qtd_prod in enumerate(individual[1::2]):\n",
    "            custoMercado += float(pao_de_acucar[index]*qtd_prod)\n",
    "        if custoMercado < custoFrete[2][0] and custoMercado > 0:\n",
    "            custoMercado += custoFrete[2][1]\n",
    "    elif mercado == 4:\n",
    "        for index,qtd_prod in enumerate(individual[1::2]):\n",
    "            custoMercado += float(prezunic[index]*qtd_prod)\n",
    "        if custoMercado < custoFrete[3][0] and custoMercado > 0:\n",
    "            custoMercado += custoFrete[3][1]\n",
    "    else:\n",
    "        for index,qtd_prod in enumerate(individual[1::2]):\n",
    "            custoMercado += float(hortifruti[index]*qtd_prod)\n",
    "        if custoMercado < custoFrete[4][0] and custoMercado > 0:\n",
    "            custoMercado += custoFrete[4][1]\n",
    "\n",
    "    return custoMercado"
   ]
  },
  {
   "cell_type": "code",
   "execution_count": 648,
   "metadata": {},
   "outputs": [],
   "source": [
    "# Função para demonstrar o custo se comprar todas as mercadorias em um único mercado, para todos os mercados. \n",
    "# Assim, consegue verificar se a solução otimizada compensa ou não.\n",
    "def DemonstraComparaCustosMercado(individual):\n",
    "\n",
    "    custoOtimizado = 0\n",
    "    qtd_total = 0 \n",
    "    # custos se fosse tudo comprado no Carrefour\n",
    "    custoCarrefour = CustoSoUmMercado(individual,1)\n",
    "    # custos se fosse tudo comprado no Zona Sul\n",
    "    custoZonaSul = CustoSoUmMercado(individual,2)\n",
    "    # custos se fosse tudo comprado no Pão de Açucar\n",
    "    custoPaoDeAcucar = CustoSoUmMercado(individual,3)\n",
    "    # custos se fosse tudo comprado no Prezunic\n",
    "    custoPrezunic = CustoSoUmMercado(individual,4)\n",
    "    # custos se fosse tudo comprado no Hortifruti\n",
    "    custoHortifruti = CustoSoUmMercado(individual,5)\n",
    "    # recupera os custos por mercado\n",
    "    cestas = CestasMercados(individual)\n",
    "    # custo benefício de todos os mercados somados\n",
    "    for custo,qtd in cestas:\n",
    "        custoOtimizado += custo\n",
    "        qtd_total +=qtd\n",
    "    \n",
    "    df_demostrativo = pd.DataFrame(columns=['mercado','custo','economia'])\n",
    "    df_demostrativo.loc[len(df_demostrativo)] = ['Otimizado',custoOtimizado,0]\n",
    "    df_demostrativo.loc[len(df_demostrativo)] = ['Carrefour',custoCarrefour,1-(custoOtimizado/custoCarrefour)]\n",
    "    df_demostrativo.loc[len(df_demostrativo)] = ['Zona Sul',custoZonaSul,1-(custoOtimizado/custoZonaSul)]\n",
    "    df_demostrativo.loc[len(df_demostrativo)] = ['Pão de Açucar',custoPaoDeAcucar,1-(custoOtimizado/custoPaoDeAcucar)]\n",
    "    df_demostrativo.loc[len(df_demostrativo)] = ['Prezunic',custoPrezunic,1-(custoOtimizado/custoPrezunic)]\n",
    "    df_demostrativo.loc[len(df_demostrativo)] = ['Hortifruti',custoHortifruti,1-(custoOtimizado/custoHortifruti)]\n",
    "    \n",
    "    return df_demostrativo,qtd_total"
   ]
  },
  {
   "cell_type": "code",
   "execution_count": 649,
   "metadata": {
    "id": "ic2nzn45GELE"
   },
   "outputs": [],
   "source": [
    "## Funcao para validar se é factivel\n",
    "def eh_factivel(individual):\n",
    "    \n",
    "    # recupera o custo total, para comparar com o meu limite de compras do período\n",
    "    custoTotal = CustoCesta(individual)[0]\n",
    "    \n",
    "    # nenhum produto pode ter qtd igual a zero\n",
    "    for index,cesta_mercado in enumerate(zip(individual[0::2],individual[1::2])):\n",
    "        # Verificar o custo de cada produto no mercado\n",
    "        mercado = cesta_mercado[0]\n",
    "        qtd_prod = cesta_mercado[1]\n",
    "        if mercado > 5 or mercado < 1:\n",
    "            return False\n",
    "        if qtd_prod < 1:\n",
    "            return False\n",
    "        # nem mercado e nem a qtd de produtos podem ser zero e também não pode ser inferior a qtd mínima do produto no periodo\n",
    "        if qtd_prod < (periodo_compras*lista_qtd_mensal[index]):\n",
    "            return False\n",
    "    if custoTotal <= custoMaximo and custoTotal > 0: \n",
    "         # verifica se comprando todas as mercadorias em um único mercado é mais economico ou não\n",
    "        df_economia,qtd_total_prods = DemonstraComparaCustosMercado(individual)\n",
    "        for econ in df_economia['economia']:\n",
    "            if econ < 0:\n",
    "                return False\n",
    "    else:\n",
    "        return False\n",
    "    return True"
   ]
  },
  {
   "cell_type": "code",
   "execution_count": 650,
   "metadata": {
    "id": "08RizlhqGEcL"
   },
   "outputs": [],
   "source": [
    "## Funcao de Penalização\n",
    "def penalidade(individual):\n",
    "    # recupera o custo total, para comparar com o meu limite de compras do período\n",
    "    custoTotal,qtd_prod = CustoCesta(individual)\n",
    "    custo_penalidade = 0\n",
    "    #if custoTotal > custoMaximo:\n",
    "    custo_penalidade = abs(custoMaximo-custoTotal)**3\n",
    "    #custo_penalidade = (custoTotal+custoMaximo)**2\n",
    "    #custo_penalidade = custoMaximo-(custoTotal+custoMaximo)**2\n",
    "    '''\n",
    "    for index,cesta_mercado in enumerate(zip(individual[0::2],individual[1::2])):\n",
    "        # Verificar o custo de cada produto no mercado\n",
    "        mercado = cesta_mercado[0]\n",
    "        qtd_prod = cesta_mercado[1]\n",
    "        if mercado == 0 or qtd_prod == 0:\n",
    "            custo_penalidade = (custoTotal+custoMaximo)**10\n",
    "    \n",
    "    return custo_penalidade, 0.0\n",
    "    '''\n",
    "    if eh_factivel(individual):\n",
    "        return custoTotal,qtd_prod\n",
    "    else:\n",
    "        return custo_penalidade+custoTotal, qtd_prod"
   ]
  },
  {
   "cell_type": "code",
   "execution_count": 651,
   "metadata": {},
   "outputs": [],
   "source": [
    "## Funcao de Penalização, utilizando o custo benefício\n",
    "def penalidadeCustoBeneficio(individual):\n",
    "    # recupera o custo total, para comparar com o meu limite de compras do período\n",
    "    custo_penalidade = 0\n",
    "    qtd_penalidade = 0\n",
    "    #cestas = CestasMercados(individual)\n",
    "    # custo benefício de todos os mercados somados\n",
    "    #for custo,qtd in cestas:\n",
    "    #    qtd_penalidade += qtd\n",
    "    #    custo_penalidade += custo\n",
    "    custoBeneficioCesta = CustoBeneficioCesta(individual)\n",
    "    #custo_penalidade = (custo_penalidade+custoMaximo)\n",
    "\n",
    "    if eh_factivel(individual):\n",
    "        return custoBeneficioCesta[0],\n",
    "    else:\n",
    "        return custoBeneficioCesta[0] - (1+custoBeneficioCesta[0])**2, #custoMaximo, #custo_penalidade, "
   ]
  },
  {
   "cell_type": "code",
   "execution_count": 652,
   "metadata": {},
   "outputs": [],
   "source": [
    "# Função para gerar o indivíduo com as condições especificadas\n",
    "def custom_individual():\n",
    "    individual = creator.Individual() \n",
    "    for i in range(20):  # Tamanho 20\n",
    "        if i % 2 == 0:  # Índices pares, identificador do mercado\n",
    "            individual.append(random.randint(1, 5))\n",
    "        else:  # Índices ímpares, quantidade de produtos para as mercadorias\n",
    "            individual.append(random.randint(1, 10))\n",
    "    return individual"
   ]
  },
  {
   "cell_type": "code",
   "execution_count": 653,
   "metadata": {},
   "outputs": [],
   "source": [
    "# Função para gerar o indivíduo específico somente para um mercado\n",
    "def custom_seeds_individual():\n",
    "    seeds = []\n",
    "    seed_random = [3, 10, 5, 10, 1, 10, 5, 10, 2, 9, 2, 10, 2, 10, 5, 4, 4, 10, 5, 2]\n",
    "                  \n",
    "    for merc in range(5):\n",
    "        individual = creator.Individual() \n",
    "        #for i in range(20):  # Tamanho 20\n",
    "        for index,elem in enumerate(seed_random):\n",
    "            #if i % 2 == 0:\n",
    "            if index % 2 == 0:  # Índices pares, identificador do mercado\n",
    "                individual.append(merc+1)\n",
    "            else:  # Índices ímpares, quantidade de produtos para as mercadorias\n",
    "                #individual.append(random.randint(1, 10))\n",
    "                individual.append(elem)\n",
    "        seeds.append(individual)\n",
    "    return seeds"
   ]
  },
  {
   "cell_type": "code",
   "execution_count": 654,
   "metadata": {},
   "outputs": [],
   "source": [
    "# Função Crossover, para tentar variar os tipo de crossover\n",
    "def CrossoverFunction(ind1, ind2, individualGenerator):\n",
    "  # crossover em dois blocos dos indivíduos\n",
    "  new_ind1, new_ind2 = tools.cxTwoPoint(ind1, ind2)\n",
    "  # validando o novo indivíduo 1 gerado\n",
    "  if(not(eh_factivel(new_ind1))):\n",
    "    # crossover em um bloco dos indivíduos\n",
    "    new_ind1,_ = tools.cxOnePoint(ind1, ind2)\n",
    "    if(not(eh_factivel(new_ind1))):\n",
    "      # crossover na base da probabilidade tx de 70%\n",
    "      new_ind1,_ = tools.cxUniform(ind1, ind2, indpb=0.5)\n",
    "      if(not(eh_factivel(new_ind1))):\n",
    "        tries = 0\n",
    "        while(not(eh_factivel(new_ind1))):\n",
    "          if tries >= 100:\n",
    "            new_ind1 = ind1\n",
    "            break\n",
    "          new_ind1 = custom_individual()\n",
    "          tries = tries + 1\n",
    "  # validando o novo indivíduo 2 gerado\n",
    "  if(not(eh_factivel(new_ind2))):\n",
    "    # crossover em um bloco dos indivíduos\n",
    "    _,new_ind2 = tools.cxOnePoint(ind1, ind2)\n",
    "    if(not(eh_factivel(new_ind2))):\n",
    "      # crossover na base da probabilidade tx de 70%\n",
    "      _,new_ind2 = tools.cxUniform(ind1, ind2, indpb=0.5)\n",
    "      if(not(eh_factivel(new_ind2))):\n",
    "        tries = 0\n",
    "        while(not(eh_factivel(new_ind2))):\n",
    "          if tries >= 100:\n",
    "            new_ind2 = ind2\n",
    "            break\n",
    "          new_ind2 = custom_individual()\n",
    "          tries = tries + 1\n",
    "  return new_ind1,new_ind2"
   ]
  },
  {
   "cell_type": "code",
   "execution_count": null,
   "metadata": {},
   "outputs": [],
   "source": [
    "# Função de mutação, para tentar variar os tipo de mutação\n",
    "def MutationFunction(individual):\n",
    "  # mutação de embaralhamento de indices, 50% de probabilidade de haver intercambio de posições\n",
    "  new_ind1, = tools.mutShuffleIndexes(individual, indpb=0.5)\n",
    "  # validando o novo indivíduo gerado\n",
    "  if(not(eh_factivel(new_ind1))):\n",
    "    # mutação de um individua usando mutUniformInt, onde indpb=50%\n",
    "    new_ind1, = tools.mutUniformInt(individual, low=1, up=10, indpb=0.5)\n",
    "    if(not(eh_factivel(new_ind1))):\n",
    "      # mutação de embaralhamento de indices, 70% de probabilidade de haver intercambio de posições\n",
    "      new_ind1, = tools.mutShuffleIndexes(individual, indpb=0.7)\n",
    "      if(not(eh_factivel(new_ind1))):\n",
    "        tries = 0\n",
    "        while(not(eh_factivel(new_ind1))):\n",
    "          if tries >= 100:\n",
    "            new_ind1 = individual\n",
    "            break\n",
    "          new_ind1 = custom_individual()\n",
    "          tries = tries + 1\n",
    "  return new_ind1,"
   ]
  },
  {
   "cell_type": "markdown",
   "metadata": {
    "id": "v0Xc3Sh10R8M"
   },
   "source": [
    "### Declaração dos pacotes referentes a biblioteca do GA: \n",
    "#### Nomenclatura referente a biblioteca e deve-se alterar somente os pesos das funções que deverão ser, ou maximizada ou minimizada\n",
    "#### Pode-se alterar também o tipo da variavel do Individuo. Mas que, geralmente, é uma lista de numeros inteiros"
   ]
  },
  {
   "cell_type": "code",
   "execution_count": 656,
   "metadata": {
    "executionInfo": {
     "elapsed": 218,
     "status": "ok",
     "timestamp": 1683400476691,
     "user": {
      "displayName": "Felipe Borges",
      "userId": "03048332577103851740"
     },
     "user_tz": 180
    },
    "id": "-qkFcI9M07DK"
   },
   "outputs": [
    {
     "name": "stderr",
     "output_type": "stream",
     "text": [
      "c:\\ProgramsNokia\\Python\\Python310\\lib\\site-packages\\deap\\creator.py:185: RuntimeWarning: A class named 'FitnessMax' has already been created and it will be overwritten. Consider deleting previous creation of that class or rename it.\n",
      "  warnings.warn(\"A class named '{0}' has already been created and it \"\n",
      "c:\\ProgramsNokia\\Python\\Python310\\lib\\site-packages\\deap\\creator.py:185: RuntimeWarning: A class named 'Individual' has already been created and it will be overwritten. Consider deleting previous creation of that class or rename it.\n",
      "  warnings.warn(\"A class named '{0}' has already been created and it \"\n"
     ]
    }
   ],
   "source": [
    "# fitness maximiza objetivo\n",
    "creator.create(\"FitnessMax\", base.Fitness, weights=(1.0,))\n",
    "creator.create(\"Individual\", list, fitness=creator.FitnessMax)"
   ]
  },
  {
   "cell_type": "code",
   "execution_count": 657,
   "metadata": {
    "colab": {
     "base_uri": "https://localhost:8080/"
    },
    "executionInfo": {
     "elapsed": 374,
     "status": "ok",
     "timestamp": 1683400531516,
     "user": {
      "displayName": "Felipe Borges",
      "userId": "03048332577103851740"
     },
     "user_tz": 180
    },
    "id": "nmT8Di0RfXBN",
    "outputId": "d802eeab-0592-4762-a9d5-930f228e2493"
   },
   "outputs": [],
   "source": [
    "#mercados = numpy.random.choice(range(1,6), size=10,  replace=True)\n",
    "#qtd_prod = numpy.random.choice(range(1,11), size=10,  replace=True)\n",
    "mercado_min = 1\n",
    "mercado_max = 5\n",
    "qtd_prod_min = 1\n",
    "qtd_prod_max = 10"
   ]
  },
  {
   "cell_type": "code",
   "execution_count": 658,
   "metadata": {
    "executionInfo": {
     "elapsed": 249,
     "status": "ok",
     "timestamp": 1683400707471,
     "user": {
      "displayName": "Felipe Borges",
      "userId": "03048332577103851740"
     },
     "user_tz": 180
    },
    "id": "CQ23CH1D2fmb"
   },
   "outputs": [],
   "source": [
    "toolbox = base.Toolbox()\n",
    "# Definir o gerador de numeros inteiros aleatórios de (1 a 5) para os mercados.\n",
    "# Definir o gerador de numeros inteiros aleatórios de (1 a 10) para a qtd de produtos.\n",
    "#toolbox.register(\"random_int_mercado\", random.randint, mercado_min, mercado_max)\n",
    "#toolbox.register(\"random_int_qtd_prod\", random.randint, qtd_prod_min, qtd_prod_max)\n",
    "# Inicialização do cromossomo (quantos genes o cromossomo deve possuir)\n",
    "#toolbox.register(\"individual\", tools.initCycle, creator.Individual, (toolbox.random_int_mercado,toolbox.random_int_qtd_prod), n=10)\n",
    "toolbox.register(\"individual\", tools.initIterate, creator.Individual, custom_individual)\n",
    "# Registro do individuo na população\n",
    "toolbox.register(\"population\", tools.initRepeat, list, toolbox.individual)\n",
    "# Registro do nome da função objetivo\n",
    "#toolbox.register(\"evaluate\", penalidade)\n",
    "toolbox.register(\"evaluate\", penalidadeCustoBeneficio)\n",
    "\n",
    "#################################### OPERADORES ####################################\n",
    "## Registro de qual o tipo de cruzamento deve ser utilizado (cruzamento de 2 pontos)\n",
    "#toolbox.register(\"mate\", tools.cxTwoPoints) \n",
    "#toolbox.register(\"mate\", tools.cxUniform, indpb=0.2)\n",
    "toolbox.register(\"mate\", CrossoverFunction, individualGenerator=toolbox.individual)\n",
    "## Registro da função de penalidade caso o individuo não obedeça as restrições\n",
    "#toolbox.register(\"evaluate\", tools.DeltaPenalty(restricao, penalidade, CustoCesta))\n",
    "## Registro de qual tipo de mutação deve ser utilizado (probabilidade de um individuo sofrer mutação)\n",
    "#toolbox.register(\"mutate\", tools.mutShuffleIndexes, indpb=0.4)\n",
    "toolbox.register(\"mutate\", MutationFunction)\n",
    "## Registro de qual o tipo do método de seleção que será utilizado\n",
    "toolbox.register(\"select\", tools.selTournament, tournsize=10)\n",
    "#toolbox.register(\"select\", tools.selNSGA2)\n",
    "#toolbox.register(\"select\", tools.selRoulette)"
   ]
  },
  {
   "cell_type": "markdown",
   "metadata": {
    "id": "Stxu97PT0y1U"
   },
   "source": [
    "## Chamada efetiva do GA para resolução"
   ]
  },
  {
   "cell_type": "code",
   "execution_count": 659,
   "metadata": {
    "executionInfo": {
     "elapsed": 233,
     "status": "ok",
     "timestamp": 1683400727348,
     "user": {
      "displayName": "Felipe Borges",
      "userId": "03048332577103851740"
     },
     "user_tz": 180
    },
    "id": "T9wHuwvDeavT"
   },
   "outputs": [],
   "source": [
    "# inicialização da pop\n",
    "pop = toolbox.population(n=200)                           \n",
    "# incluindo sementes de indivíduos que são específicos e apenas um emrcado\n",
    "pop.extend(custom_seeds_individual())\n",
    "# melhor indivíduo\n",
    "hof = tools.HallOfFame(1)                                 \n",
    "#stats_func1 = tools.Statistics(key=lambda ind: ind.fitness.values[0::2])\n",
    "#stats_func2 = tools.Statistics(key=lambda ind: ind.fitness.values[1::2])\n",
    "#stats = tools.MultiStatistics(func1=stats_func1, func2=stats_func2)\n",
    "#stats.register(\"avg\", numpy.mean)\n",
    "#stats.register(\"std\", numpy.std)\n",
    "#stats.register(\"min\", numpy.min)\n",
    "#stats.register(\"max\", numpy.max)\n",
    "stats = tools.Statistics(lambda ind: ind.fitness.values)\n",
    "stats.register(\"avg\", lambda x: tuple(map(lambda y: sum(y) / len(y), zip(*x))))\n",
    "stats.register(\"min\", lambda x: tuple(map(min, zip(*x))))\n",
    "stats.register(\"max\", lambda x: tuple(map(max, zip(*x))))"
   ]
  },
  {
   "cell_type": "code",
   "execution_count": 660,
   "metadata": {
    "colab": {
     "base_uri": "https://localhost:8080/"
    },
    "executionInfo": {
     "elapsed": 13647,
     "status": "ok",
     "timestamp": 1683400768453,
     "user": {
      "displayName": "Felipe Borges",
      "userId": "03048332577103851740"
     },
     "user_tz": 180
    },
    "id": "eB-D6v2HecUi",
    "outputId": "e61d8e27-dc12-40e2-cc4c-887ee733cc71"
   },
   "outputs": [
    {
     "name": "stdout",
     "output_type": "stream",
     "text": [
      "gen\tnevals\tavg                   \tmin                  \tmax                   \n",
      "0  \t205   \t(-1.3766671987900538,)\t(-1.678988797691182,)\t(0.10669813215505122,)\n",
      "1  \t189   \t(-1.2674823983110766,)\t(-1.6134531623955262,)\t(0.3278986117587035,) \n",
      "2  \t180   \t(-1.2152169889943012,)\t(-1.5939408478122594,)\t(0.3278986117587035,) \n",
      "3  \t193   \t(-1.2144793572355923,)\t(-1.5971455656234395,)\t(0.3278986117587035,) \n",
      "4  \t192   \t(-1.1994027321312517,)\t(-1.7155854946885132,)\t(0.3278986117587035,) \n",
      "5  \t184   \t(-1.1503851399347453,)\t(-1.6941512163224957,)\t(0.33380214688072357,)\n",
      "6  \t186   \t(-1.1630807517541737,)\t(-1.6455353257558138,)\t(0.338451652256254,)  \n",
      "7  \t183   \t(-1.101954764911211,) \t(-1.8247929808396215,)\t(0.42131824936289064,)\n",
      "8  \t178   \t(-0.9821134156810764,)\t(-1.6560401956842368,)\t(0.42131824936289064,)\n",
      "9  \t181   \t(-0.8442548966903014,)\t(-1.5975550424153566,)\t(0.423730166241104,)  \n",
      "10 \t190   \t(-0.8187861822162567,)\t(-1.7375291567703148,)\t(0.4463479285319136,) \n",
      "11 \t181   \t(-0.7835758463737497,)\t(-1.8075497820299462,)\t(0.4463479285319136,) \n",
      "12 \t174   \t(-0.7542035140070712,)\t(-1.6572046140515024,)\t(0.4463479285319136,) \n",
      "13 \t182   \t(-0.8128101482171083,)\t(-1.5788993352376919,)\t(0.4463479285319136,) \n",
      "14 \t189   \t(-0.9195129210572732,)\t(-1.6355290549042356,)\t(0.4477183886802675,) \n",
      "15 \t186   \t(-0.8451255604233275,)\t(-1.6647557420234493,)\t(0.447920186593012,)  \n",
      "16 \t189   \t(-0.8796419854301524,)\t(-1.6293621504057516,)\t(0.44929766264748017,)\n",
      "17 \t187   \t(-0.854877873457822,) \t(-1.6322905498157196,)\t(0.4497257730824539,) \n",
      "18 \t179   \t(-0.6836054102107076,)\t(-1.6761506515125966,)\t(0.45125213687874133,)\n",
      "19 \t187   \t(-0.7466061151117913,)\t(-1.6412636284508695,)\t(0.45125213687874133,)\n",
      "20 \t194   \t(-0.8081902663517858,)\t(-1.682258901472378,) \t(0.45125213687874133,)\n",
      "21 \t191   \t(-0.7880548885013534,)\t(-1.7624751387834494,)\t(0.45125213687874133,)\n",
      "22 \t182   \t(-0.8488402531626061,)\t(-1.6708815929611647,)\t(0.45125213687874133,)\n",
      "23 \t179   \t(-0.8318824144073679,)\t(-1.7071002199761756,)\t(0.45125213687874133,)\n",
      "24 \t179   \t(-0.7921448459198921,)\t(-1.6704385104313195,)\t(0.45125213687874133,)\n",
      "25 \t185   \t(-0.898367662796549,) \t(-1.6976327534073008,)\t(0.45125213687874133,)\n",
      "26 \t181   \t(-0.8467494632911976,)\t(-1.674511558932248,) \t(0.45125213687874133,)\n",
      "27 \t190   \t(-0.7209700921375557,)\t(-1.7190671550483194,)\t(0.45125213687874133,)\n",
      "28 \t189   \t(-0.8106635824682004,)\t(-1.6962981839426627,)\t(0.45125213687874133,)\n",
      "29 \t191   \t(-0.814969148994447,) \t(-1.6620480609751387,)\t(0.45125213687874133,)\n",
      "30 \t191   \t(-0.853071367828438,) \t(-1.6701602807913654,)\t(0.45125213687874133,)\n",
      "31 \t193   \t(-0.8219317671613192,)\t(-1.6527828324259262,)\t(0.45125213687874133,)\n",
      "32 \t194   \t(-0.8839011505367947,)\t(-1.6234252339167097,)\t(0.45125213687874133,)\n",
      "33 \t192   \t(-0.9179590218207709,)\t(-1.6901936648151992,)\t(0.45125213687874133,)\n",
      "34 \t190   \t(-0.7470356261358917,)\t(-1.6923204130612555,)\t(0.45125213687874133,)\n",
      "35 \t186   \t(-0.7350298234988009,)\t(-1.6588139543832672,)\t(0.45125213687874133,)\n",
      "36 \t193   \t(-0.8759341749824885,)\t(-1.6853740225678617,)\t(0.45125213687874133,)\n",
      "37 \t190   \t(-0.8852731739878827,)\t(-1.6752772269962175,)\t(0.45142854247276765,)\n",
      "38 \t186   \t(-0.8061637651736963,)\t(-1.7189177279566326,)\t(0.45990004115441063,)\n",
      "39 \t188   \t(-0.8607463273757185,)\t(-1.6637904610539298,)\t(0.45990004115441063,)\n",
      "40 \t178   \t(-0.7642406555865833,)\t(-1.7351209618012684,)\t(0.45990004115441063,)\n",
      "41 \t191   \t(-0.7380953611293838,)\t(-1.621285517452937,) \t(0.45990004115441063,)\n",
      "42 \t192   \t(-0.826491064570529,) \t(-1.7009392671961343,)\t(0.45990004115441063,)\n",
      "43 \t189   \t(-0.8212501568554966,)\t(-1.5922842517808644,)\t(0.45990004115441063,)\n",
      "44 \t185   \t(-0.8196291150872939,)\t(-1.5506468139458778,)\t(0.45990004115441063,)\n",
      "45 \t176   \t(-0.7734841264116598,)\t(-1.6572761615867098,)\t(0.45990004115441063,)\n",
      "46 \t191   \t(-0.8065980827077988,)\t(-1.7411249851004649,)\t(0.45990004115441063,)\n",
      "47 \t184   \t(-0.7722106040055353,)\t(-1.66032548136709,)  \t(0.45990004115441063,)\n",
      "48 \t178   \t(-0.7832013784006432,)\t(-1.7404893724367037,)\t(0.45990004115441063,)\n",
      "49 \t188   \t(-0.7844988047366103,)\t(-1.6308817335051795,)\t(0.45990004115441063,)\n",
      "50 \t183   \t(-0.7669301037186468,)\t(-1.6820432183472744,)\t(0.45990004115441063,)\n",
      "51 \t189   \t(-0.8337775402776285,)\t(-1.5568986050864573,)\t(0.45990004115441063,)\n",
      "52 \t189   \t(-0.8057439121341401,)\t(-1.5740244594205826,)\t(0.45990004115441063,)\n",
      "53 \t189   \t(-0.8225119569950221,)\t(-1.675766265964184,) \t(0.45990004115441063,)\n",
      "54 \t190   \t(-0.8079828136305405,)\t(-1.6246099235060747,)\t(0.45990004115441063,)\n",
      "55 \t188   \t(-0.8584518229585844,)\t(-1.6481052267880827,)\t(0.45990004115441063,)\n",
      "56 \t186   \t(-0.8768101460790716,)\t(-1.6528520890236797,)\t(0.45990004115441063,)\n",
      "57 \t185   \t(-0.8164638048452622,)\t(-1.700504702495953,) \t(0.45990004115441063,)\n",
      "58 \t189   \t(-0.8486879259293794,)\t(-1.6696897536826771,)\t(0.45990004115441063,)\n",
      "59 \t188   \t(-0.8147571051481077,)\t(-1.5945210786107271,)\t(0.45990004115441063,)\n",
      "60 \t188   \t(-0.8428639059220889,)\t(-1.618499205550072,) \t(0.45990004115441063,)\n",
      "61 \t184   \t(-0.8468649832831455,)\t(-1.637455690349149,) \t(0.45990004115441063,)\n",
      "62 \t190   \t(-0.770838055380992,) \t(-1.582317955059679,) \t(0.45990004115441063,)\n",
      "63 \t188   \t(-0.827696111069267,) \t(-1.7886640592589282,)\t(0.45990004115441063,)\n",
      "64 \t193   \t(-0.7976174960383389,)\t(-1.6777385882409876,)\t(0.45990004115441063,)\n",
      "65 \t184   \t(-0.7144615514899851,)\t(-1.6366668140748382,)\t(0.45990004115441063,)\n",
      "66 \t193   \t(-0.8008648083697295,)\t(-1.6685545576763314,)\t(0.45990004115441063,)\n",
      "67 \t187   \t(-0.846681694113705,) \t(-1.6345049951643515,)\t(0.4653866341448626,) \n",
      "68 \t191   \t(-0.8134797641275783,)\t(-1.6384528146750705,)\t(0.5082338481557045,) \n",
      "69 \t189   \t(-0.8833529892654285,)\t(-1.7455640692790424,)\t(0.5174459379157286,) \n",
      "70 \t190   \t(-0.857530734610183,) \t(-1.7427084983433607,)\t(0.5174459379157286,) \n",
      "71 \t180   \t(-0.8046767587719889,)\t(-1.6114877709325692,)\t(0.5320280005732752,) \n",
      "72 \t187   \t(-0.7627298248091782,)\t(-1.8313936332122944,)\t(0.5320280005732752,) \n",
      "73 \t191   \t(-0.7704524433068703,)\t(-1.7384950954504863,)\t(0.5320280005732752,) \n",
      "74 \t185   \t(-0.768050885662554,) \t(-1.6360666535107011,)\t(0.53886541112324,)   \n",
      "75 \t182   \t(-0.7921441819562075,)\t(-1.696896799965328,) \t(0.5649658883575621,) \n",
      "76 \t184   \t(-0.9329502608734754,)\t(-1.6487172070920721,)\t(0.5649658883575621,) \n",
      "77 \t190   \t(-0.879096902936981,) \t(-1.8323868713562748,)\t(0.5649658883575621,) \n",
      "78 \t193   \t(-0.865056216114914,) \t(-1.578632273864855,) \t(0.5649658883575621,) \n",
      "79 \t187   \t(-0.8167639604515803,)\t(-1.6885347564084578,)\t(0.5649658883575621,) \n",
      "80 \t189   \t(-0.7787224959949796,)\t(-1.8419268958533614,)\t(0.5649658883575621,) \n",
      "81 \t191   \t(-0.8213327932963694,)\t(-1.8627402412243435,)\t(0.5649658883575621,) \n",
      "82 \t186   \t(-0.8288017554941381,)\t(-1.7637729754243707,)\t(0.5649658883575621,) \n",
      "83 \t182   \t(-0.7924563384599623,)\t(-1.6723361960120666,)\t(0.5649658883575621,) \n",
      "84 \t179   \t(-0.6820529568509758,)\t(-1.7005788847023198,)\t(0.5649658883575621,) \n",
      "85 \t185   \t(-0.7209408464734139,)\t(-1.712505837939458,) \t(0.5649658883575621,) \n",
      "86 \t190   \t(-0.770268329772593,) \t(-1.671964521211021,) \t(0.5649658883575621,) \n",
      "87 \t191   \t(-0.7459648515125983,)\t(-1.681726836675776,) \t(0.5649658883575621,) \n",
      "88 \t191   \t(-0.8521286644367202,)\t(-1.8994006563276522,)\t(0.5649658883575621,) \n",
      "89 \t191   \t(-0.7257945773445106,)\t(-1.8083192367628067,)\t(0.5649658883575621,) \n",
      "90 \t179   \t(-0.6662390552270153,)\t(-1.6722107780775695,)\t(0.5649658883575621,) \n",
      "91 \t185   \t(-0.7151986519204219,)\t(-1.7290542773645365,)\t(0.5649658883575621,) \n",
      "92 \t184   \t(-0.6995752938404598,)\t(-1.663786313401796,) \t(0.5649658883575621,) \n",
      "93 \t186   \t(-0.7430923064484181,)\t(-1.6279481874466852,)\t(0.5649658883575621,) \n",
      "94 \t188   \t(-0.7236004527557071,)\t(-1.620913164379912,) \t(0.5649658883575621,) \n",
      "95 \t188   \t(-0.7609521961918267,)\t(-1.7067929844925736,)\t(0.5649658883575621,) \n",
      "96 \t193   \t(-0.7923723721300863,)\t(-1.649142765168824,) \t(0.5649658883575621,) \n",
      "97 \t182   \t(-0.680411533089702,) \t(-1.6906605880268846,)\t(0.5649658883575621,) \n",
      "98 \t186   \t(-0.8235696420668889,)\t(-1.7189075865464338,)\t(0.5649658883575621,) \n",
      "99 \t184   \t(-0.771383489187761,) \t(-1.748182901501849,) \t(0.5649658883575621,) \n",
      "100\t191   \t(-0.7264001626240818,)\t(-1.7154921813847448,)\t(0.5649658883575621,) \n",
      "101\t185   \t(-0.7690631521288321,)\t(-1.7771513054462316,)\t(0.5649658883575621,) \n",
      "102\t185   \t(-0.7322610767460738,)\t(-1.6921988987186867,)\t(0.5649658883575621,) \n",
      "103\t184   \t(-0.8887618592271965,)\t(-1.6455042305518774,)\t(0.5649658883575621,) \n",
      "104\t180   \t(-0.7888862028412637,)\t(-1.7500533413567347,)\t(0.5649658883575621,) \n",
      "105\t184   \t(-0.7744003882696048,)\t(-1.6386378808008848,)\t(0.5649658883575621,) \n",
      "106\t186   \t(-0.8210457839480114,)\t(-1.7946376870271523,)\t(0.5649658883575621,) \n",
      "107\t188   \t(-0.9146357589654709,)\t(-1.7632544941227735,)\t(0.5649658883575621,) \n",
      "108\t180   \t(-0.8222817560669974,)\t(-1.7134561040919238,)\t(0.5649658883575621,) \n",
      "109\t186   \t(-0.8554676136149729,)\t(-1.656089624675937,) \t(0.5649658883575621,) \n",
      "110\t179   \t(-0.793050972791002,) \t(-1.6848136638805196,)\t(0.5649658883575621,) \n",
      "111\t190   \t(-0.7347750278311034,)\t(-1.6994741062679002,)\t(0.5649658883575621,) \n",
      "112\t189   \t(-0.7346730646475497,)\t(-1.6913737880008046,)\t(0.5649658883575621,) \n",
      "113\t182   \t(-0.6402518880611048,)\t(-1.7624691817275147,)\t(0.5649658883575621,) \n",
      "114\t186   \t(-0.7547676146256329,)\t(-1.6324329362629995,)\t(0.5649658883575621,) \n",
      "115\t179   \t(-0.6975606894491158,)\t(-1.6430272996365867,)\t(0.5649658883575621,) \n",
      "116\t190   \t(-0.8062994984316448,)\t(-1.5926691368304882,)\t(0.5649658883575621,) \n",
      "117\t177   \t(-0.7916841702899918,)\t(-1.8253293652373674,)\t(0.5649658883575621,) \n",
      "118\t184   \t(-0.8231659313878297,)\t(-1.7454971274465279,)\t(0.5649658883575621,) \n",
      "119\t187   \t(-0.8162396839969859,)\t(-1.688192041583171,) \t(0.5649658883575621,) \n",
      "120\t189   \t(-0.9051213995006172,)\t(-1.7069026551508821,)\t(0.5649658883575621,) \n",
      "121\t184   \t(-0.937602900192485,) \t(-1.62524120431567,)  \t(0.5649658883575621,) \n",
      "122\t185   \t(-0.9170062801237436,)\t(-1.8553701473404396,)\t(0.5649658883575621,) \n",
      "123\t186   \t(-0.8274745068066716,)\t(-1.8867048615355348,)\t(0.5650738889437893,) \n",
      "124\t178   \t(-0.7990837463297306,)\t(-1.6839481252384612,)\t(0.5650738889437893,) \n",
      "125\t175   \t(-0.6961575813655709,)\t(-1.6460934445790998,)\t(0.5650738889437893,) \n",
      "126\t175   \t(-0.7098744770200466,)\t(-1.7069054042067189,)\t(0.5650738889437893,) \n",
      "127\t186   \t(-0.706402838915493,) \t(-1.7589018373503849,)\t(0.5650738889437893,) \n",
      "128\t186   \t(-0.7293226015821587,)\t(-1.7879032249782323,)\t(0.5650738889437893,) \n",
      "129\t192   \t(-0.8206817903115263,)\t(-1.6689519021585117,)\t(0.5650738889437893,) \n",
      "130\t190   \t(-0.8801263697331075,)\t(-1.739767160604579,) \t(0.5650738889437893,) \n",
      "131\t193   \t(-0.7462639702065417,)\t(-1.6508280577001138,)\t(0.5650738889437893,) \n",
      "132\t181   \t(-0.7873588296260298,)\t(-1.6693113147133003,)\t(0.5650738889437893,) \n",
      "133\t185   \t(-0.755158586644711,) \t(-1.8612948923088313,)\t(0.5650738889437893,) \n",
      "134\t186   \t(-0.8210834204675206,)\t(-1.7522481641856753,)\t(0.5650738889437893,) \n",
      "135\t192   \t(-0.855081753055477,) \t(-1.853167746081429,) \t(0.5650738889437893,) \n",
      "136\t180   \t(-0.6674879709514416,)\t(-1.7416346874523942,)\t(0.5650738889437893,) \n",
      "137\t177   \t(-0.6727438226583465,)\t(-1.7170440276250023,)\t(0.5650738889437893,) \n",
      "138\t191   \t(-0.7271249074106997,)\t(-1.5654753579240317,)\t(0.5650738889437893,) \n",
      "139\t187   \t(-0.8342052451934341,)\t(-1.6566304062839892,)\t(0.5650738889437893,) \n",
      "140\t176   \t(-0.7055453062401871,)\t(-1.784288607903056,) \t(0.5650738889437893,) \n",
      "141\t187   \t(-0.7786469008355884,)\t(-1.6733169135255337,)\t(0.5650738889437893,) \n",
      "142\t184   \t(-0.7949342344958729,)\t(-1.6474022417487348,)\t(0.5650738889437893,) \n",
      "143\t189   \t(-0.8920434535873668,)\t(-1.6798042960746553,)\t(0.5650738889437893,) \n",
      "144\t187   \t(-0.881394503340754,) \t(-1.8859414527552874,)\t(0.5650738889437893,) \n",
      "145\t186   \t(-0.8889165141382277,)\t(-1.8187146234442797,)\t(0.5650738889437893,) \n",
      "146\t188   \t(-0.848553537777769,) \t(-1.6865800951587269,)\t(0.5650738889437893,) \n",
      "147\t189   \t(-0.850062367523474,) \t(-1.74090437927403,)  \t(0.5650738889437893,) \n",
      "148\t194   \t(-0.8474807604180831,)\t(-1.693422400492435,) \t(0.5650738889437893,) \n",
      "149\t177   \t(-0.7537071621001841,)\t(-1.8410794119115943,)\t(0.5650738889437893,) \n",
      "150\t181   \t(-0.7680637106641545,)\t(-1.7136164666892173,)\t(0.5650738889437893,) \n",
      "151\t174   \t(-0.6876180365929969,)\t(-1.6677287743613127,)\t(0.5650738889437893,) \n",
      "152\t187   \t(-0.7917309924127657,)\t(-1.5930636654465504,)\t(0.5650738889437893,) \n",
      "153\t183   \t(-0.6621861383582499,)\t(-1.7731892743760622,)\t(0.5650738889437893,) \n",
      "154\t182   \t(-0.6828167881701102,)\t(-1.634584394352689,) \t(0.5650738889437893,) \n",
      "155\t187   \t(-0.7594904921986579,)\t(-1.6757747709809454,)\t(0.5650738889437893,) \n",
      "156\t186   \t(-0.8515957362891372,)\t(-1.7296853309061642,)\t(0.5650738889437893,) \n",
      "157\t189   \t(-0.8389809945305359,)\t(-1.7902140142005805,)\t(0.5650738889437893,) \n",
      "158\t185   \t(-0.7374342719954105,)\t(-1.6766000148755007,)\t(0.5650738889437893,) \n",
      "159\t182   \t(-0.8012765271402414,)\t(-1.8312919161723191,)\t(0.5650738889437893,) \n",
      "160\t187   \t(-0.8320798521559332,)\t(-1.6750620129025138,)\t(0.5650738889437893,) \n",
      "161\t186   \t(-0.7943636788084073,)\t(-1.6965356255057547,)\t(0.5650738889437893,) \n",
      "162\t183   \t(-0.7896013823433716,)\t(-1.7388849127591315,)\t(0.5650738889437893,) \n",
      "163\t186   \t(-0.8195185783723623,)\t(-1.6709348027911268,)\t(0.5650738889437893,) \n",
      "164\t184   \t(-0.6920018138547069,)\t(-1.7153887466464819,)\t(0.5650738889437893,) \n",
      "165\t179   \t(-0.8840957207216202,)\t(-1.7598937433685917,)\t(0.5650738889437893,) \n",
      "166\t184   \t(-0.8377948086715962,)\t(-1.7410424875149146,)\t(0.5650738889437893,) \n",
      "167\t186   \t(-0.7652048271966757,)\t(-1.736541204602675,) \t(0.5650738889437893,) \n",
      "168\t183   \t(-0.6987326046230001,)\t(-1.6336001802635418,)\t(0.5650738889437893,) \n",
      "169\t187   \t(-0.785341733808343,) \t(-1.6612360422883072,)\t(0.5650738889437893,) \n",
      "170\t195   \t(-0.8430635717607149,)\t(-1.7006055295450209,)\t(0.5650738889437893,) \n",
      "171\t186   \t(-0.8506971529004163,)\t(-1.9211305378314485,)\t(0.5650738889437893,) \n",
      "172\t184   \t(-0.865191347520837,) \t(-1.6285320297582826,)\t(0.5650738889437893,) \n",
      "173\t196   \t(-0.926739614302672,) \t(-1.6052664755824781,)\t(0.5650738889437893,) \n",
      "174\t191   \t(-0.8521903318735662,)\t(-1.7945526359701742,)\t(0.5650738889437893,) \n",
      "175\t189   \t(-0.8608995758571263,)\t(-1.9023932766952916,)\t(0.5650738889437893,) \n",
      "176\t189   \t(-0.7895667226200955,)\t(-1.746244962794697,) \t(0.5650738889437893,) \n",
      "177\t186   \t(-0.7262739367793252,)\t(-1.6797213686675674,)\t(0.5650738889437893,) \n",
      "178\t187   \t(-0.8422221852010374,)\t(-1.7156961417223693,)\t(0.5650738889437893,) \n",
      "179\t187   \t(-0.8261857664513068,)\t(-1.9053647477062827,)\t(0.5650738889437893,) \n",
      "180\t188   \t(-0.7415675342058611,)\t(-1.6835341717040428,)\t(0.5650738889437893,) \n",
      "181\t186   \t(-0.8359781926984685,)\t(-1.6632386260662315,)\t(0.5650738889437893,) \n",
      "182\t184   \t(-0.8498848557990147,)\t(-1.7098172955638353,)\t(0.5650738889437893,) \n",
      "183\t182   \t(-0.737915774576321,) \t(-1.7156539650731406,)\t(0.5650738889437893,) \n",
      "184\t182   \t(-0.7451731970847469,)\t(-1.6925270810673614,)\t(0.5650738889437893,) \n",
      "185\t186   \t(-0.6557880915854204,)\t(-1.799330092518312,) \t(0.5650738889437893,) \n",
      "186\t186   \t(-0.7947963303086953,)\t(-1.686099922518744,) \t(0.5650738889437893,) \n",
      "187\t186   \t(-0.8026622601515285,)\t(-1.627218247134303,) \t(0.5650738889437893,) \n",
      "188\t179   \t(-0.7832639898995929,)\t(-1.643240708049269,) \t(0.5650738889437893,) \n",
      "189\t186   \t(-0.8453202555023687,)\t(-1.7541201379858118,)\t(0.5650738889437893,) \n",
      "190\t178   \t(-0.7442748657054684,)\t(-1.692862185611503,) \t(0.5650738889437893,) \n",
      "191\t189   \t(-0.819048070120537,) \t(-1.8245794875893955,)\t(0.5650738889437893,) \n",
      "192\t187   \t(-0.6383143688297997,)\t(-1.720794142478479,) \t(0.5650738889437893,) \n",
      "193\t189   \t(-0.7572207553546638,)\t(-1.6178191817892278,)\t(0.5650738889437893,) \n",
      "194\t191   \t(-0.808299172209477,) \t(-1.7115867859893938,)\t(0.5650738889437893,) \n",
      "195\t193   \t(-0.7574653110681339,)\t(-1.7263078733998065,)\t(0.5650738889437893,) \n",
      "196\t188   \t(-0.6971261514415512,)\t(-1.7856074478843063,)\t(0.5650738889437893,) \n",
      "197\t190   \t(-0.8936547127631398,)\t(-1.7434041171208956,)\t(0.5650738889437893,) \n",
      "198\t183   \t(-0.8476037871758938,)\t(-1.7037254749900579,)\t(0.5650738889437893,) \n",
      "199\t189   \t(-0.915893429387645,) \t(-1.694073145893161,) \t(0.5650738889437893,) \n",
      "200\t181   \t(-0.8724014718609346,)\t(-1.671588997412009,) \t(0.5650738889437893,) \n"
     ]
    }
   ],
   "source": [
    "pop, log = algorithms.eaSimple(pop, toolbox, cxpb=0.7, mutpb=0.7, ngen=200, stats=stats, halloffame=hof, verbose=True) #aumentei mut = 0.7\n",
    "#pop, log = algorithms.eaMuPlusLambda(pop, toolbox, mu=50, lambda_=50, cxpb=0.8, mutpb=0.2, ngen=300, stats=stats, halloffame=hof, verbose=True)"
   ]
  },
  {
   "cell_type": "markdown",
   "metadata": {
    "id": "6igXZchj1TtX"
   },
   "source": [
    "## Resultados"
   ]
  },
  {
   "cell_type": "code",
   "execution_count": 661,
   "metadata": {},
   "outputs": [
    {
     "name": "stdout",
     "output_type": "stream",
     "text": [
      "Melhor Indivíduo:\n",
      "[4, 10, 4, 9, 1, 7, 5, 10, 2, 10, 1, 7, 2, 9, 5, 4, 3, 9, 5, 3]\n",
      "True\n",
      "(0.5650738889437893,)\n",
      "Melhor Resultado da Função Objetivo:\n",
      "Quantidade Total de produtos: 78\n"
     ]
    },
    {
     "data": {
      "text/html": [
       "<div>\n",
       "<style scoped>\n",
       "    .dataframe tbody tr th:only-of-type {\n",
       "        vertical-align: middle;\n",
       "    }\n",
       "\n",
       "    .dataframe tbody tr th {\n",
       "        vertical-align: top;\n",
       "    }\n",
       "\n",
       "    .dataframe thead th {\n",
       "        text-align: right;\n",
       "    }\n",
       "</style>\n",
       "<table border=\"1\" class=\"dataframe\">\n",
       "  <thead>\n",
       "    <tr style=\"text-align: right;\">\n",
       "      <th></th>\n",
       "      <th>mercado</th>\n",
       "      <th>custo</th>\n",
       "      <th>economia</th>\n",
       "    </tr>\n",
       "  </thead>\n",
       "  <tbody>\n",
       "    <tr>\n",
       "      <th>0</th>\n",
       "      <td>Otimizado</td>\n",
       "      <td>775.370000</td>\n",
       "      <td>0.000000</td>\n",
       "    </tr>\n",
       "    <tr>\n",
       "      <th>1</th>\n",
       "      <td>Carrefour</td>\n",
       "      <td>789.410000</td>\n",
       "      <td>0.017785</td>\n",
       "    </tr>\n",
       "    <tr>\n",
       "      <th>2</th>\n",
       "      <td>Zona Sul</td>\n",
       "      <td>824.848333</td>\n",
       "      <td>0.059985</td>\n",
       "    </tr>\n",
       "    <tr>\n",
       "      <th>3</th>\n",
       "      <td>Pão de Açucar</td>\n",
       "      <td>1995.440000</td>\n",
       "      <td>0.611429</td>\n",
       "    </tr>\n",
       "    <tr>\n",
       "      <th>4</th>\n",
       "      <td>Prezunic</td>\n",
       "      <td>1102.063333</td>\n",
       "      <td>0.296438</td>\n",
       "    </tr>\n",
       "    <tr>\n",
       "      <th>5</th>\n",
       "      <td>Hortifruti</td>\n",
       "      <td>1025.496667</td>\n",
       "      <td>0.243908</td>\n",
       "    </tr>\n",
       "  </tbody>\n",
       "</table>\n",
       "</div>"
      ],
      "text/plain": [
       "         mercado        custo  economia\n",
       "0      Otimizado   775.370000  0.000000\n",
       "1      Carrefour   789.410000  0.017785\n",
       "2       Zona Sul   824.848333  0.059985\n",
       "3  Pão de Açucar  1995.440000  0.611429\n",
       "4       Prezunic  1102.063333  0.296438\n",
       "5     Hortifruti  1025.496667  0.243908"
      ]
     },
     "execution_count": 661,
     "metadata": {},
     "output_type": "execute_result"
    }
   ],
   "source": [
    "# Melhor solução\n",
    "print(\"Melhor Indivíduo:\")\n",
    "print(hof[0])\n",
    "\n",
    "# Verificação da função de restrição\n",
    "print(eh_factivel(hof[0]))\n",
    "#print(penalidade(hof[0]))\n",
    "print(penalidadeCustoBeneficio(hof[0]))\n",
    "\n",
    "\n",
    "# Melhor resultado da função objetivo\n",
    "print(\"Melhor Resultado da Função Objetivo:\")\n",
    "#CustoCesta(hof[0])\n",
    "CustoBeneficioCesta(hof[0])\n",
    "df,qtd_total = DemonstraComparaCustosMercado(hof[0])\n",
    "print('Quantidade Total de produtos: '+str(qtd_total))\n",
    "df\n"
   ]
  },
  {
   "cell_type": "code",
   "execution_count": 662,
   "metadata": {
    "colab": {
     "base_uri": "https://localhost:8080/",
     "height": 433
    },
    "executionInfo": {
     "elapsed": 710,
     "status": "ok",
     "timestamp": 1683400789727,
     "user": {
      "displayName": "Felipe Borges",
      "userId": "03048332577103851740"
     },
     "user_tz": 180
    },
    "id": "3-rdpbtesXWp",
    "outputId": "130f9e47-47b2-439f-8dcc-32452ae63c55"
   },
   "outputs": [
    {
     "data": {
      "image/png": "[encoded data removed]",
      "text/plain": [
       "<Figure size 640x480 with 1 Axes>"
      ]
     },
     "metadata": {},
     "output_type": "display_data"
    },
    {
     "name": "stdout",
     "output_type": "stream",
     "text": [
      "[0, 1, 2, 3, 4, 5, 6, 7, 8, 9, 10, 11, 12, 13, 14, 15, 16, 17, 18, 19, 20, 21, 22, 23, 24, 25, 26, 27, 28, 29, 30, 31, 32, 33, 34, 35, 36, 37, 38, 39, 40, 41, 42, 43, 44, 45, 46, 47, 48, 49, 50, 51, 52, 53, 54, 55, 56, 57, 58, 59, 60, 61, 62, 63, 64, 65, 66, 67, 68, 69, 70, 71, 72, 73, 74, 75, 76, 77, 78, 79, 80, 81, 82, 83, 84, 85, 86, 87, 88, 89, 90, 91, 92, 93, 94, 95, 96, 97, 98, 99, 100, 101, 102, 103, 104, 105, 106, 107, 108, 109, 110, 111, 112, 113, 114, 115, 116, 117, 118, 119, 120, 121, 122, 123, 124, 125, 126, 127, 128, 129, 130, 131, 132, 133, 134, 135, 136, 137, 138, 139, 140, 141, 142, 143, 144, 145, 146, 147, 148, 149, 150, 151, 152, 153, 154, 155, 156, 157, 158, 159, 160, 161, 162, 163, 164, 165, 166, 167, 168, 169, 170, 171, 172, 173, 174, 175, 176, 177, 178, 179, 180, 181, 182, 183, 184, 185, 186, 187, 188, 189, 190, 191, 192, 193, 194, 195, 196, 197, 198, 199, 200] [(0.10669813215505122,), (0.3278986117587035,), (0.3278986117587035,), (0.3278986117587035,), (0.3278986117587035,), (0.33380214688072357,), (0.338451652256254,), (0.42131824936289064,), (0.42131824936289064,), (0.423730166241104,), (0.4463479285319136,), (0.4463479285319136,), (0.4463479285319136,), (0.4463479285319136,), (0.4477183886802675,), (0.447920186593012,), (0.44929766264748017,), (0.4497257730824539,), (0.45125213687874133,), (0.45125213687874133,), (0.45125213687874133,), (0.45125213687874133,), (0.45125213687874133,), (0.45125213687874133,), (0.45125213687874133,), (0.45125213687874133,), (0.45125213687874133,), (0.45125213687874133,), (0.45125213687874133,), (0.45125213687874133,), (0.45125213687874133,), (0.45125213687874133,), (0.45125213687874133,), (0.45125213687874133,), (0.45125213687874133,), (0.45125213687874133,), (0.45125213687874133,), (0.45142854247276765,), (0.45990004115441063,), (0.45990004115441063,), (0.45990004115441063,), (0.45990004115441063,), (0.45990004115441063,), (0.45990004115441063,), (0.45990004115441063,), (0.45990004115441063,), (0.45990004115441063,), (0.45990004115441063,), (0.45990004115441063,), (0.45990004115441063,), (0.45990004115441063,), (0.45990004115441063,), (0.45990004115441063,), (0.45990004115441063,), (0.45990004115441063,), (0.45990004115441063,), (0.45990004115441063,), (0.45990004115441063,), (0.45990004115441063,), (0.45990004115441063,), (0.45990004115441063,), (0.45990004115441063,), (0.45990004115441063,), (0.45990004115441063,), (0.45990004115441063,), (0.45990004115441063,), (0.45990004115441063,), (0.4653866341448626,), (0.5082338481557045,), (0.5174459379157286,), (0.5174459379157286,), (0.5320280005732752,), (0.5320280005732752,), (0.5320280005732752,), (0.53886541112324,), (0.5649658883575621,), (0.5649658883575621,), (0.5649658883575621,), (0.5649658883575621,), (0.5649658883575621,), (0.5649658883575621,), (0.5649658883575621,), (0.5649658883575621,), (0.5649658883575621,), (0.5649658883575621,), (0.5649658883575621,), (0.5649658883575621,), (0.5649658883575621,), (0.5649658883575621,), (0.5649658883575621,), (0.5649658883575621,), (0.5649658883575621,), (0.5649658883575621,), (0.5649658883575621,), (0.5649658883575621,), (0.5649658883575621,), (0.5649658883575621,), (0.5649658883575621,), (0.5649658883575621,), (0.5649658883575621,), (0.5649658883575621,), (0.5649658883575621,), (0.5649658883575621,), (0.5649658883575621,), (0.5649658883575621,), (0.5649658883575621,), (0.5649658883575621,), (0.5649658883575621,), (0.5649658883575621,), (0.5649658883575621,), (0.5649658883575621,), (0.5649658883575621,), (0.5649658883575621,), (0.5649658883575621,), (0.5649658883575621,), (0.5649658883575621,), (0.5649658883575621,), (0.5649658883575621,), (0.5649658883575621,), (0.5649658883575621,), (0.5649658883575621,), (0.5649658883575621,), (0.5649658883575621,), (0.5650738889437893,), (0.5650738889437893,), (0.5650738889437893,), (0.5650738889437893,), (0.5650738889437893,), (0.5650738889437893,), (0.5650738889437893,), (0.5650738889437893,), (0.5650738889437893,), (0.5650738889437893,), (0.5650738889437893,), (0.5650738889437893,), (0.5650738889437893,), (0.5650738889437893,), (0.5650738889437893,), (0.5650738889437893,), (0.5650738889437893,), (0.5650738889437893,), (0.5650738889437893,), (0.5650738889437893,), (0.5650738889437893,), (0.5650738889437893,), (0.5650738889437893,), (0.5650738889437893,), (0.5650738889437893,), (0.5650738889437893,), (0.5650738889437893,), (0.5650738889437893,), (0.5650738889437893,), (0.5650738889437893,), (0.5650738889437893,), (0.5650738889437893,), (0.5650738889437893,), (0.5650738889437893,), (0.5650738889437893,), (0.5650738889437893,), (0.5650738889437893,), (0.5650738889437893,), (0.5650738889437893,), (0.5650738889437893,), (0.5650738889437893,), (0.5650738889437893,), (0.5650738889437893,), (0.5650738889437893,), (0.5650738889437893,), (0.5650738889437893,), (0.5650738889437893,), (0.5650738889437893,), (0.5650738889437893,), (0.5650738889437893,), (0.5650738889437893,), (0.5650738889437893,), (0.5650738889437893,), (0.5650738889437893,), (0.5650738889437893,), (0.5650738889437893,), (0.5650738889437893,), (0.5650738889437893,), (0.5650738889437893,), (0.5650738889437893,), (0.5650738889437893,), (0.5650738889437893,), (0.5650738889437893,), (0.5650738889437893,), (0.5650738889437893,), (0.5650738889437893,), (0.5650738889437893,), (0.5650738889437893,), (0.5650738889437893,), (0.5650738889437893,), (0.5650738889437893,), (0.5650738889437893,), (0.5650738889437893,), (0.5650738889437893,), (0.5650738889437893,), (0.5650738889437893,), (0.5650738889437893,), (0.5650738889437893,)]\n"
     ]
    }
   ],
   "source": [
    "import matplotlib.pyplot as plt\n",
    "gen, maxVal = log.select(\"gen\", \"max\")\n",
    "plt.plot(gen, maxVal)\n",
    "plt.ylabel('Maior valor da função de aptidão')\n",
    "plt.show()\n",
    "print(gen, maxVal)"
   ]
  },
  {
   "cell_type": "code",
   "execution_count": 663,
   "metadata": {},
   "outputs": [],
   "source": [
    "epochs_avg = [value for epoch_kv in log for key,value in epoch_kv.items() if key == 'avg']\n",
    "epochs_max = [value for epoch_kv in log for key,value in epoch_kv.items() if key == 'max']\n",
    "epochs_min = [value for epoch_kv in log for key,value in epoch_kv.items() if key == 'min']"
   ]
  },
  {
   "cell_type": "code",
   "execution_count": 664,
   "metadata": {},
   "outputs": [],
   "source": [
    "epochs_best = []\n",
    "for epoch_kv in log:\n",
    "  for key,value in epoch_kv.items():\n",
    "    if key == 'max':\n",
    "      if len(epochs_best) == 0 or value > epochs_best[-1]:\n",
    "        epochs_best.append(value)\n",
    "      else:\n",
    "        epochs_best.append(epochs_best[-1])"
   ]
  },
  {
   "cell_type": "code",
   "execution_count": 665,
   "metadata": {},
   "outputs": [
    {
     "data": {
      "image/png": "[encoded data removed]",
      "text/plain": [
       "<Figure size 640x480 with 1 Axes>"
      ]
     },
     "metadata": {},
     "output_type": "display_data"
    }
   ],
   "source": [
    "from matplotlib import style\n",
    "style.use('dark_background')\n",
    "import matplotlib.pyplot as plt\n",
    "plt.plot(epochs_max, color='blue')\n",
    "plt.plot(epochs_avg, color='orange')\n",
    "plt.plot(epochs_min, color='red')\n",
    "plt.plot(epochs_best, color='green', linewidth=3)\n",
    "plt.ylabel('Maior valor da função de aptidão')\n",
    "plt.show()"
   ]
  }
 ],
 "metadata": {
  "colab": {
   "provenance": []
  },
  "kernelspec": {
   "display_name": "Python 3",
   "name": "python3"
  },
  "language_info": {
   "codemirror_mode": {
    "name": "ipython",
    "version": 3
   },
   "file_extension": ".py",
   "mimetype": "text/x-python",
   "name": "python",
   "nbconvert_exporter": "python",
   "pygments_lexer": "ipython3",
   "version": "3.10.11"
  }
 },
 "nbformat": 4,
 "nbformat_minor": 0
}
